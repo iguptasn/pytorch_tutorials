{
 "cells": [
  {
   "cell_type": "code",
   "execution_count": 1,
   "id": "34228659-48b8-4b43-9b8c-d74994d0baea",
   "metadata": {},
   "outputs": [],
   "source": [
    "%load_ext autoreload\n",
    "%autoreload 2"
   ]
  },
  {
   "cell_type": "code",
   "execution_count": 2,
   "id": "b9f7bb47-9ba7-4356-8ba4-d8fab3c07328",
   "metadata": {},
   "outputs": [],
   "source": [
    "import torch\n",
    "import numpy as np"
   ]
  },
  {
   "cell_type": "code",
   "execution_count": 3,
   "id": "17be6545-8115-4886-81a1-1b60d22c9e0a",
   "metadata": {},
   "outputs": [
    {
     "data": {
      "text/plain": [
       "tensor([[0.7598, 0.4631, 0.1341,  ..., 0.0470, 0.8023, 0.6352],\n",
       "        [0.3156, 0.4405, 0.0802,  ..., 0.2267, 0.6748, 0.9082],\n",
       "        [0.4126, 0.3887, 0.2969,  ..., 0.0794, 0.3039, 0.5560],\n",
       "        ...,\n",
       "        [0.7992, 0.9384, 0.8660,  ..., 0.8076, 0.5519, 0.5746],\n",
       "        [0.6467, 0.9032, 0.3929,  ..., 0.8716, 0.4488, 0.2312],\n",
       "        [0.7890, 0.6051, 0.0055,  ..., 0.2346, 0.1194, 0.1913]],\n",
       "       dtype=torch.float64)"
      ]
     },
     "execution_count": 3,
     "metadata": {},
     "output_type": "execute_result"
    }
   ],
   "source": [
    "# creating tensors directly\n",
    "data = np.random.random((100,100))\n",
    "x_data = torch.tensor(data)\n",
    "x_data"
   ]
  },
  {
   "cell_type": "code",
   "execution_count": 4,
   "id": "a4c08790-c362-4ee4-9ba9-6cc4f7973112",
   "metadata": {},
   "outputs": [
    {
     "data": {
      "text/plain": [
       "tensor([[0.7598, 0.4631, 0.1341,  ..., 0.0470, 0.8023, 0.6352],\n",
       "        [0.3156, 0.4405, 0.0802,  ..., 0.2267, 0.6748, 0.9082],\n",
       "        [0.4126, 0.3887, 0.2969,  ..., 0.0794, 0.3039, 0.5560],\n",
       "        ...,\n",
       "        [0.7992, 0.9384, 0.8660,  ..., 0.8076, 0.5519, 0.5746],\n",
       "        [0.6467, 0.9032, 0.3929,  ..., 0.8716, 0.4488, 0.2312],\n",
       "        [0.7890, 0.6051, 0.0055,  ..., 0.2346, 0.1194, 0.1913]],\n",
       "       dtype=torch.float64)"
      ]
     },
     "execution_count": 4,
     "metadata": {},
     "output_type": "execute_result"
    }
   ],
   "source": [
    "# creating tensors from numpy arrays \n",
    "x_np = torch.from_numpy(data)\n",
    "x_np"
   ]
  },
  {
   "cell_type": "code",
   "execution_count": 5,
   "id": "3edd7d85-a952-4dbb-8ee6-5d3731289755",
   "metadata": {},
   "outputs": [
    {
     "data": {
      "text/plain": [
       "(tensor([[1., 1., 1.,  ..., 1., 1., 1.],\n",
       "         [1., 1., 1.,  ..., 1., 1., 1.],\n",
       "         [1., 1., 1.,  ..., 1., 1., 1.],\n",
       "         ...,\n",
       "         [1., 1., 1.,  ..., 1., 1., 1.],\n",
       "         [1., 1., 1.,  ..., 1., 1., 1.],\n",
       "         [1., 1., 1.,  ..., 1., 1., 1.]], dtype=torch.float64),\n",
       " tensor([[0.5976, 0.8977, 0.4748,  ..., 0.7581, 0.0924, 0.9813],\n",
       "         [0.4373, 0.4155, 0.8838,  ..., 0.3931, 0.7274, 0.9537],\n",
       "         [0.0933, 0.9434, 0.3893,  ..., 0.1129, 0.9062, 0.0154],\n",
       "         ...,\n",
       "         [0.5394, 0.5676, 0.9891,  ..., 0.4391, 0.6730, 0.6702],\n",
       "         [0.1469, 0.5472, 0.7944,  ..., 0.8305, 0.2899, 0.8590],\n",
       "         [0.9799, 0.6846, 0.9245,  ..., 0.3669, 0.4949, 0.7953]],\n",
       "        dtype=torch.float64))"
      ]
     },
     "execution_count": 5,
     "metadata": {},
     "output_type": "execute_result"
    }
   ],
   "source": [
    "# creating tensors from other tensors\n",
    "x_ones = torch.ones_like(x_np)\n",
    "x_rand = torch.rand_like(x_data)\n",
    "x_ones, x_rand"
   ]
  },
  {
   "cell_type": "code",
   "execution_count": 6,
   "id": "d003e7fa-233e-46ea-a50b-21383d222482",
   "metadata": {},
   "outputs": [
    {
     "data": {
      "text/plain": [
       "(tensor([[1., 1., 1., 1., 1., 1., 1., 1., 1., 1.],\n",
       "         [1., 1., 1., 1., 1., 1., 1., 1., 1., 1.],\n",
       "         [1., 1., 1., 1., 1., 1., 1., 1., 1., 1.],\n",
       "         [1., 1., 1., 1., 1., 1., 1., 1., 1., 1.],\n",
       "         [1., 1., 1., 1., 1., 1., 1., 1., 1., 1.],\n",
       "         [1., 1., 1., 1., 1., 1., 1., 1., 1., 1.],\n",
       "         [1., 1., 1., 1., 1., 1., 1., 1., 1., 1.],\n",
       "         [1., 1., 1., 1., 1., 1., 1., 1., 1., 1.],\n",
       "         [1., 1., 1., 1., 1., 1., 1., 1., 1., 1.],\n",
       "         [1., 1., 1., 1., 1., 1., 1., 1., 1., 1.]]),\n",
       " tensor([[0., 0., 0., 0., 0., 0., 0., 0., 0., 0.],\n",
       "         [0., 0., 0., 0., 0., 0., 0., 0., 0., 0.],\n",
       "         [0., 0., 0., 0., 0., 0., 0., 0., 0., 0.],\n",
       "         [0., 0., 0., 0., 0., 0., 0., 0., 0., 0.],\n",
       "         [0., 0., 0., 0., 0., 0., 0., 0., 0., 0.],\n",
       "         [0., 0., 0., 0., 0., 0., 0., 0., 0., 0.],\n",
       "         [0., 0., 0., 0., 0., 0., 0., 0., 0., 0.],\n",
       "         [0., 0., 0., 0., 0., 0., 0., 0., 0., 0.],\n",
       "         [0., 0., 0., 0., 0., 0., 0., 0., 0., 0.],\n",
       "         [0., 0., 0., 0., 0., 0., 0., 0., 0., 0.]]),\n",
       " tensor([[0.9646, 0.7188, 0.0114, 0.8052, 0.6991, 0.8474, 0.5773, 0.1484, 0.9893,\n",
       "          0.4565],\n",
       "         [0.6651, 0.4709, 0.2581, 0.6711, 0.6429, 0.0622, 0.6530, 0.3179, 0.4144,\n",
       "          0.6744],\n",
       "         [0.6485, 0.9871, 0.4012, 0.1934, 0.1005, 0.5126, 0.7517, 0.3418, 0.7417,\n",
       "          0.1052],\n",
       "         [0.3328, 0.4762, 0.7504, 0.9870, 0.3987, 0.3713, 0.3817, 0.5278, 0.0065,\n",
       "          0.8589],\n",
       "         [0.0989, 0.8891, 0.5766, 0.7103, 0.4132, 0.3448, 0.2811, 0.3459, 0.2327,\n",
       "          0.2000],\n",
       "         [0.8460, 0.2217, 0.9593, 0.9511, 0.2096, 0.0974, 0.7290, 0.2732, 0.9639,\n",
       "          0.2023],\n",
       "         [0.3020, 0.1577, 0.0869, 0.4094, 0.8729, 0.8832, 0.8592, 0.6378, 0.3678,\n",
       "          0.6008],\n",
       "         [0.0968, 0.4312, 0.4863, 0.3122, 0.1639, 0.3701, 0.2125, 0.3074, 0.6374,\n",
       "          0.4864],\n",
       "         [0.0176, 0.2315, 0.8434, 0.2853, 0.6411, 0.2199, 0.4547, 0.5605, 0.0058,\n",
       "          0.9906],\n",
       "         [0.1102, 0.5105, 0.1322, 0.4420, 0.7944, 0.9441, 0.9701, 0.9522, 0.8545,\n",
       "          0.0174]]))"
      ]
     },
     "execution_count": 6,
     "metadata": {},
     "output_type": "execute_result"
    }
   ],
   "source": [
    "# creating tensors with a shape \n",
    "shape = (10,10)\n",
    "s_ones = torch.ones(shape)\n",
    "s_rand = torch.rand(shape)\n",
    "s_zeros = torch.zeros(shape)\n",
    "s_ones, s_zeros, s_rand"
   ]
  },
  {
   "cell_type": "code",
   "execution_count": 7,
   "id": "5f89d98f-9bc9-4eb2-b298-ff04fa7f8567",
   "metadata": {},
   "outputs": [
    {
     "data": {
      "text/plain": [
       "(torch.Size([10, 10]), torch.float32, device(type='cpu'))"
      ]
     },
     "execution_count": 7,
     "metadata": {},
     "output_type": "execute_result"
    }
   ],
   "source": [
    "# tensor attributes\n",
    "s_rand.shape, s_zeros.dtype, s_ones.device"
   ]
  },
  {
   "cell_type": "code",
   "execution_count": 10,
   "id": "2e19143b-5035-4b3c-bd25-e0a01c6d2d3b",
   "metadata": {},
   "outputs": [
    {
     "data": {
      "text/plain": [
       "(torch.Size([10, 10]), torch.float32, device(type='cuda', index=0))"
      ]
     },
     "execution_count": 10,
     "metadata": {},
     "output_type": "execute_result"
    }
   ],
   "source": [
    "# tensor device to gpu\n",
    "if torch.cuda.is_available(): s_rand = s_rand.to(\"cuda\")\n",
    "s_rand.shape, s_rand.dtype, s_rand.device"
   ]
  },
  {
   "cell_type": "code",
   "execution_count": 9,
   "id": "70dba6d3-e8b4-40c0-b360-61fb2f9fbf5a",
   "metadata": {},
   "outputs": [
    {
     "data": {
      "text/plain": [
       "(torch.Size([10, 10]), torch.float32, device(type='cpu'))"
      ]
     },
     "execution_count": 9,
     "metadata": {},
     "output_type": "execute_result"
    }
   ],
   "source": [
    "# tensor device back to cpu\n",
    "s_rand = s_rand.to(\"cpu\")\n",
    "s_rand.shape, s_rand.dtype, s_rand.device"
   ]
  }
 ],
 "metadata": {
  "kernelspec": {
   "display_name": "Python 3 (ipykernel)",
   "language": "python",
   "name": "python3"
  },
  "language_info": {
   "codemirror_mode": {
    "name": "ipython",
    "version": 3
   },
   "file_extension": ".py",
   "mimetype": "text/x-python",
   "name": "python",
   "nbconvert_exporter": "python",
   "pygments_lexer": "ipython3",
   "version": "3.10.13"
  }
 },
 "nbformat": 4,
 "nbformat_minor": 5
}

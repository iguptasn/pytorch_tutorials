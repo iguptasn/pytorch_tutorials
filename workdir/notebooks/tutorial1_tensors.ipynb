{
 "cells": [
  {
   "cell_type": "code",
   "execution_count": 1,
   "id": "34228659-48b8-4b43-9b8c-d74994d0baea",
   "metadata": {},
   "outputs": [],
   "source": [
    "%load_ext autoreload\n",
    "%autoreload 2"
   ]
  },
  {
   "cell_type": "code",
   "execution_count": 2,
   "id": "b9f7bb47-9ba7-4356-8ba4-d8fab3c07328",
   "metadata": {},
   "outputs": [],
   "source": [
    "import torch\n",
    "import numpy as np"
   ]
  },
  {
   "cell_type": "code",
   "execution_count": 12,
   "id": "17be6545-8115-4886-81a1-1b60d22c9e0a",
   "metadata": {},
   "outputs": [
    {
     "data": {
      "text/plain": [
       "tensor([[0.2124, 0.7292, 0.8384,  ..., 0.3149, 0.9623, 0.2709],\n",
       "        [0.0974, 0.9473, 0.1049,  ..., 0.9625, 0.1295, 0.8042],\n",
       "        [0.4414, 0.9227, 0.2354,  ..., 0.9219, 0.7883, 0.1469],\n",
       "        ...,\n",
       "        [0.5455, 0.1126, 0.7078,  ..., 0.9439, 0.4066, 0.2628],\n",
       "        [0.7048, 0.6000, 0.9150,  ..., 0.9972, 0.2989, 0.4659],\n",
       "        [0.2572, 0.2859, 0.9399,  ..., 0.3273, 0.1502, 0.5714]],\n",
       "       dtype=torch.float64)"
      ]
     },
     "execution_count": 12,
     "metadata": {},
     "output_type": "execute_result"
    }
   ],
   "source": [
    "# creating tensors directly\n",
    "data = np.random.random((100,100))\n",
    "x_data = torch.tensor(data)\n",
    "x_data"
   ]
  },
  {
   "cell_type": "code",
   "execution_count": 13,
   "id": "a4c08790-c362-4ee4-9ba9-6cc4f7973112",
   "metadata": {},
   "outputs": [
    {
     "data": {
      "text/plain": [
       "tensor([[0.2124, 0.7292, 0.8384,  ..., 0.3149, 0.9623, 0.2709],\n",
       "        [0.0974, 0.9473, 0.1049,  ..., 0.9625, 0.1295, 0.8042],\n",
       "        [0.4414, 0.9227, 0.2354,  ..., 0.9219, 0.7883, 0.1469],\n",
       "        ...,\n",
       "        [0.5455, 0.1126, 0.7078,  ..., 0.9439, 0.4066, 0.2628],\n",
       "        [0.7048, 0.6000, 0.9150,  ..., 0.9972, 0.2989, 0.4659],\n",
       "        [0.2572, 0.2859, 0.9399,  ..., 0.3273, 0.1502, 0.5714]],\n",
       "       dtype=torch.float64)"
      ]
     },
     "execution_count": 13,
     "metadata": {},
     "output_type": "execute_result"
    }
   ],
   "source": [
    "# creating tensors from numpy arrays \n",
    "x_np = torch.from_numpy(data)\n",
    "x_np"
   ]
  },
  {
   "cell_type": "code",
   "execution_count": 15,
   "id": "3edd7d85-a952-4dbb-8ee6-5d3731289755",
   "metadata": {},
   "outputs": [
    {
     "data": {
      "text/plain": [
       "(tensor([[1., 1., 1.,  ..., 1., 1., 1.],\n",
       "         [1., 1., 1.,  ..., 1., 1., 1.],\n",
       "         [1., 1., 1.,  ..., 1., 1., 1.],\n",
       "         ...,\n",
       "         [1., 1., 1.,  ..., 1., 1., 1.],\n",
       "         [1., 1., 1.,  ..., 1., 1., 1.],\n",
       "         [1., 1., 1.,  ..., 1., 1., 1.]], dtype=torch.float64),\n",
       " tensor([[0.6719, 0.7764, 0.0649,  ..., 0.1342, 0.3754, 0.1137],\n",
       "         [0.0425, 0.7707, 0.3436,  ..., 0.1886, 0.2135, 0.9951],\n",
       "         [0.1285, 0.1238, 0.9579,  ..., 0.5518, 0.6758, 0.7662],\n",
       "         ...,\n",
       "         [0.1640, 0.9154, 0.2046,  ..., 0.5303, 0.9537, 0.1600],\n",
       "         [0.5464, 0.4850, 0.9638,  ..., 0.8996, 0.6511, 0.6323],\n",
       "         [0.9936, 0.5910, 0.3149,  ..., 0.2855, 0.5405, 0.3503]],\n",
       "        dtype=torch.float64))"
      ]
     },
     "execution_count": 15,
     "metadata": {},
     "output_type": "execute_result"
    }
   ],
   "source": [
    "# creating tensors from other tensors\n",
    "x_ones = torch.ones_like(x_np)\n",
    "x_rand = torch.rand_like(x_data)\n",
    "x_ones, x_rand"
   ]
  },
  {
   "cell_type": "code",
   "execution_count": 17,
   "id": "d003e7fa-233e-46ea-a50b-21383d222482",
   "metadata": {},
   "outputs": [
    {
     "data": {
      "text/plain": [
       "(tensor([[1., 1., 1., 1., 1., 1., 1., 1., 1., 1.],\n",
       "         [1., 1., 1., 1., 1., 1., 1., 1., 1., 1.],\n",
       "         [1., 1., 1., 1., 1., 1., 1., 1., 1., 1.],\n",
       "         [1., 1., 1., 1., 1., 1., 1., 1., 1., 1.],\n",
       "         [1., 1., 1., 1., 1., 1., 1., 1., 1., 1.],\n",
       "         [1., 1., 1., 1., 1., 1., 1., 1., 1., 1.],\n",
       "         [1., 1., 1., 1., 1., 1., 1., 1., 1., 1.],\n",
       "         [1., 1., 1., 1., 1., 1., 1., 1., 1., 1.],\n",
       "         [1., 1., 1., 1., 1., 1., 1., 1., 1., 1.],\n",
       "         [1., 1., 1., 1., 1., 1., 1., 1., 1., 1.]]),\n",
       " tensor([[0., 0., 0., 0., 0., 0., 0., 0., 0., 0.],\n",
       "         [0., 0., 0., 0., 0., 0., 0., 0., 0., 0.],\n",
       "         [0., 0., 0., 0., 0., 0., 0., 0., 0., 0.],\n",
       "         [0., 0., 0., 0., 0., 0., 0., 0., 0., 0.],\n",
       "         [0., 0., 0., 0., 0., 0., 0., 0., 0., 0.],\n",
       "         [0., 0., 0., 0., 0., 0., 0., 0., 0., 0.],\n",
       "         [0., 0., 0., 0., 0., 0., 0., 0., 0., 0.],\n",
       "         [0., 0., 0., 0., 0., 0., 0., 0., 0., 0.],\n",
       "         [0., 0., 0., 0., 0., 0., 0., 0., 0., 0.],\n",
       "         [0., 0., 0., 0., 0., 0., 0., 0., 0., 0.]]),\n",
       " tensor([[2.4916e-01, 8.9420e-01, 9.8823e-01, 9.1795e-01, 9.9953e-02, 6.7791e-01,\n",
       "          3.6479e-02, 3.9005e-01, 2.8711e-01, 1.6146e-01],\n",
       "         [4.0749e-02, 2.9732e-01, 5.9762e-01, 4.9767e-01, 2.4805e-01, 4.8299e-01,\n",
       "          2.1967e-01, 4.9314e-01, 4.7324e-01, 8.9909e-01],\n",
       "         [1.9940e-01, 2.2238e-01, 4.0458e-01, 7.5102e-01, 2.0779e-01, 8.7348e-01,\n",
       "          4.8077e-04, 8.9610e-01, 7.8986e-01, 4.8486e-01],\n",
       "         [5.7692e-01, 9.4448e-01, 6.4932e-01, 9.4689e-01, 4.8037e-01, 1.0802e-01,\n",
       "          6.1333e-01, 7.7732e-01, 8.6526e-01, 7.1761e-01],\n",
       "         [4.9334e-01, 9.8656e-01, 2.1765e-01, 7.2634e-01, 2.8485e-01, 5.9012e-01,\n",
       "          7.5664e-01, 7.4372e-01, 2.3368e-01, 2.0828e-01],\n",
       "         [1.1874e-01, 6.2103e-01, 4.8895e-01, 1.4255e-01, 7.1312e-01, 4.1033e-01,\n",
       "          5.3423e-02, 4.7893e-01, 5.5242e-02, 8.0103e-01],\n",
       "         [7.8044e-01, 4.9903e-01, 7.4492e-01, 9.1601e-01, 3.0568e-01, 7.8862e-01,\n",
       "          8.5954e-01, 9.7511e-01, 6.9206e-01, 9.1247e-01],\n",
       "         [7.9900e-02, 2.6643e-01, 2.4683e-01, 1.5846e-02, 8.7038e-01, 4.1227e-01,\n",
       "          2.8994e-01, 4.3257e-01, 1.3009e-02, 6.9936e-01],\n",
       "         [4.1210e-01, 8.5235e-01, 4.3812e-01, 2.8665e-01, 6.2130e-01, 1.8596e-01,\n",
       "          3.4375e-01, 7.7281e-01, 4.8560e-01, 4.1753e-01],\n",
       "         [4.8385e-01, 2.2858e-01, 7.3698e-01, 9.8030e-01, 4.0437e-01, 1.8431e-01,\n",
       "          2.6863e-01, 7.7134e-01, 2.1404e-01, 5.4216e-01]]))"
      ]
     },
     "execution_count": 17,
     "metadata": {},
     "output_type": "execute_result"
    }
   ],
   "source": [
    "# creating tensors with a shape \n",
    "shape = (10,10)\n",
    "s_ones = torch.ones(shape)\n",
    "s_rand = torch.rand(shape)\n",
    "s_zeros = torch.zeros(shape)\n",
    "s_ones, s_zeros, s_rand"
   ]
  },
  {
   "cell_type": "code",
   "execution_count": 20,
   "id": "5f89d98f-9bc9-4eb2-b298-ff04fa7f8567",
   "metadata": {},
   "outputs": [
    {
     "data": {
      "text/plain": [
       "(torch.Size([10, 10]), torch.float32, device(type='cpu'))"
      ]
     },
     "execution_count": 20,
     "metadata": {},
     "output_type": "execute_result"
    }
   ],
   "source": [
    "# tensor attributes\n",
    "s_rand.shape, s_zeros.dtype, s_ones.device"
   ]
  },
  {
   "cell_type": "code",
   "execution_count": 27,
   "id": "2e19143b-5035-4b3c-bd25-e0a01c6d2d3b",
   "metadata": {},
   "outputs": [
    {
     "data": {
      "text/plain": [
       "(torch.Size([10, 10]), torch.float32, device(type='cuda', index=0))"
      ]
     },
     "execution_count": 27,
     "metadata": {},
     "output_type": "execute_result"
    }
   ],
   "source": [
    "# tensor device to gpu\n",
    "if torch.cuda.is_available(): s_rand = s_rand.to(\"cuda\")\n",
    "s_rand.shape, s_rand.dtype, s_rand.device"
   ]
  },
  {
   "cell_type": "code",
   "execution_count": 28,
   "id": "70dba6d3-e8b4-40c0-b360-61fb2f9fbf5a",
   "metadata": {},
   "outputs": [
    {
     "data": {
      "text/plain": [
       "(torch.Size([10, 10]), torch.float32, device(type='cpu'))"
      ]
     },
     "execution_count": 28,
     "metadata": {},
     "output_type": "execute_result"
    }
   ],
   "source": [
    "# tensor device back to cpu\n",
    "s_rand = s_rand.to(\"cpu\")\n",
    "s_rand.shape, s_rand.dtype, s_rand.device"
   ]
  },
  {
   "cell_type": "code",
   "execution_count": null,
   "id": "7a9a69ef-d4fa-41f6-ab9e-f1f03935db1b",
   "metadata": {},
   "outputs": [],
   "source": []
  }
 ],
 "metadata": {
  "kernelspec": {
   "display_name": "Python 3 (ipykernel)",
   "language": "python",
   "name": "python3"
  },
  "language_info": {
   "codemirror_mode": {
    "name": "ipython",
    "version": 3
   },
   "file_extension": ".py",
   "mimetype": "text/x-python",
   "name": "python",
   "nbconvert_exporter": "python",
   "pygments_lexer": "ipython3",
   "version": "3.10.13"
  }
 },
 "nbformat": 4,
 "nbformat_minor": 5
}

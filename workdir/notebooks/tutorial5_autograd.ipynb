{
 "cells": [
  {
   "cell_type": "code",
   "execution_count": 2,
   "id": "4a956a60-c782-4a02-95eb-eec5ead07e6b",
   "metadata": {},
   "outputs": [],
   "source": [
    "%load_ext autoreload\n",
    "%autoreload 2"
   ]
  },
  {
   "cell_type": "code",
   "execution_count": 3,
   "id": "d46849ca-529d-43a1-94d9-9ec0cee6cd2d",
   "metadata": {},
   "outputs": [],
   "source": [
    "import torch"
   ]
  },
  {
   "cell_type": "code",
   "execution_count": 5,
   "id": "b66e0cdf-b1e8-404c-b366-6985b0c6bddc",
   "metadata": {},
   "outputs": [],
   "source": [
    "x = torch.ones(5)\n",
    "y = torch.zeros(3)\n",
    "w = torch.randn(5,3,requires_grad=True)\n",
    "b = torch.randn(3, requires_grad=True)\n",
    "z = torch.matmul(x,w) + b\n",
    "loss = torch.nn.functional.binary_cross_entropy_with_logits(z,y)"
   ]
  },
  {
   "cell_type": "code",
   "execution_count": 7,
   "id": "ef4c7429-a97a-4d58-8c64-0c5bbe12aafc",
   "metadata": {},
   "outputs": [
    {
     "data": {
      "text/plain": [
       "(<AddBackward0 at 0x7fc2129d08e0>,\n",
       " <BinaryCrossEntropyWithLogitsBackward0 at 0x7fc2128652d0>)"
      ]
     },
     "execution_count": 7,
     "metadata": {},
     "output_type": "execute_result"
    }
   ],
   "source": [
    "z.grad_fn, loss.grad_fn"
   ]
  },
  {
   "cell_type": "code",
   "execution_count": 9,
   "id": "18d69066-8908-4083-aea0-22aeddcf0425",
   "metadata": {},
   "outputs": [
    {
     "data": {
      "text/plain": [
       "(None,\n",
       " tensor([[0.3319, 0.3121, 0.1788],\n",
       "         [0.3319, 0.3121, 0.1788],\n",
       "         [0.3319, 0.3121, 0.1788],\n",
       "         [0.3319, 0.3121, 0.1788],\n",
       "         [0.3319, 0.3121, 0.1788]]),\n",
       " tensor([0.3319, 0.3121, 0.1788]))"
      ]
     },
     "execution_count": 9,
     "metadata": {},
     "output_type": "execute_result"
    }
   ],
   "source": [
    "loss.backward(), w.grad, b.grad"
   ]
  },
  {
   "cell_type": "code",
   "execution_count": 10,
   "id": "ef8ce07a-ef1b-41a7-a60c-f8fe51a4b570",
   "metadata": {},
   "outputs": [
    {
     "name": "stdout",
     "output_type": "stream",
     "text": [
      "False\n"
     ]
    }
   ],
   "source": [
    "# to freeze parameters, detach tracking\n",
    "z_det = z.detach()\n",
    "print(z_det.requires_grad)"
   ]
  },
  {
   "cell_type": "code",
   "execution_count": 20,
   "id": "52ae06c6-0816-4a6a-928a-8ba66848d9d8",
   "metadata": {},
   "outputs": [
    {
     "data": {
      "text/plain": [
       "(tensor([[1., 0., 0., 0., 0.],\n",
       "         [0., 1., 0., 0., 0.],\n",
       "         [0., 0., 1., 0., 0.],\n",
       "         [0., 0., 0., 1., 0.]], requires_grad=True),\n",
       " tensor([[4., 1., 1., 1.],\n",
       "         [1., 4., 1., 1.],\n",
       "         [1., 1., 4., 1.],\n",
       "         [1., 1., 1., 4.],\n",
       "         [1., 1., 1., 1.]], grad_fn=<TBackward0>),\n",
       " tensor([[4., 2., 2., 2., 2.],\n",
       "         [2., 4., 2., 2., 2.],\n",
       "         [2., 2., 4., 2., 2.],\n",
       "         [2., 2., 2., 4., 2.]]))"
      ]
     },
     "execution_count": 20,
     "metadata": {},
     "output_type": "execute_result"
    }
   ],
   "source": [
    "# in case the loss function is also a vector, torch calculates the jacobian product given by vT.J, where v is the same size as the original tensor\n",
    "input = torch.eye(4,5, requires_grad=True)\n",
    "output = (input+1).pow(2).t()\n",
    "output.backward(torch.ones_like(output), retain_graph=True)\n",
    "output.backward(torch.ones_like(output), retain_graph=True)\n",
    "input.grad.zero_()\n",
    "output.backward(torch.ones_like(output), retain_graph=True)\n",
    "input, output, input.grad"
   ]
  },
  {
   "cell_type": "markdown",
   "id": "5a0532bb-575d-40b0-8461-4ef467ee71cb",
   "metadata": {},
   "source": [
    "To understand this properly, read https://pytorch.org/docs/stable/notes/autograd.html "
   ]
  },
  {
   "cell_type": "code",
   "execution_count": null,
   "id": "0c99a2bf-e8e6-42d2-859a-ae2e953fd988",
   "metadata": {},
   "outputs": [],
   "source": []
  }
 ],
 "metadata": {
  "kernelspec": {
   "display_name": "Python 3 (ipykernel)",
   "language": "python",
   "name": "python3"
  },
  "language_info": {
   "codemirror_mode": {
    "name": "ipython",
    "version": 3
   },
   "file_extension": ".py",
   "mimetype": "text/x-python",
   "name": "python",
   "nbconvert_exporter": "python",
   "pygments_lexer": "ipython3",
   "version": "3.10.13"
  }
 },
 "nbformat": 4,
 "nbformat_minor": 5
}

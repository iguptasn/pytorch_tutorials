{
 "cells": [
  {
   "cell_type": "code",
   "execution_count": 1,
   "id": "33a28570-b188-4cec-8a0b-dde1817a32f7",
   "metadata": {},
   "outputs": [],
   "source": [
    "%load_ext autoreload\n",
    "%autoreload 2"
   ]
  },
  {
   "cell_type": "code",
   "execution_count": 2,
   "id": "8e2229de-d3ad-4b35-bda9-0bdab97372ef",
   "metadata": {},
   "outputs": [],
   "source": [
    "import numpy as np"
   ]
  },
  {
   "cell_type": "code",
   "execution_count": null,
   "id": "600f8e37-3dd3-4362-80c3-753bcb949158",
   "metadata": {},
   "outputs": [],
   "source": [
    "import torch\n",
    "import torch.nn as nn\n",
    "from torch.utils.data import Dataset\n",
    "from torch.utils.data import DataLoader"
   ]
  },
  {
   "cell_type": "code",
   "execution_count": null,
   "id": "26c4f9f4-4147-4129-b1a5-fb1c3436a418",
   "metadata": {},
   "outputs": [],
   "source": [
    "import matplotlib.pyplot as plt"
   ]
  },
  {
   "cell_type": "code",
   "execution_count": null,
   "id": "95a7dfb9-6036-43d4-9401-6849d58933ba",
   "metadata": {},
   "outputs": [],
   "source": [
    "# modifying the following affects the model fit significantly \n",
    "batch_size=100\n",
    "learning_rate = 5e-9\n",
    "epochs = 500"
   ]
  },
  {
   "cell_type": "code",
   "execution_count": null,
   "id": "52ba1739-f8ee-4d23-8595-df8d7b9f040b",
   "metadata": {},
   "outputs": [],
   "source": [
    "input_data = torch.arange(start=0,end=6,step=0.001)\n",
    "fit_data = torch.sin(input_data)\n",
    "noise = torch.rand(input_data.shape)-0.5\n",
    "output_data = fit_data + noise"
   ]
  },
  {
   "cell_type": "code",
   "execution_count": null,
   "id": "0ce988b9-fd93-4101-883b-081a728f3894",
   "metadata": {},
   "outputs": [],
   "source": [
    "plt.subplots(figsize=(2.5,2.5))\n",
    "plt.plot(input_data, fit_data, 'k:')\n",
    "plt.plot(input_data[::50], output_data[::50], 'bo', alpha=0.5)"
   ]
  },
  {
   "cell_type": "code",
   "execution_count": null,
   "id": "3ad88691-dbba-4b05-9f4b-b70d60dc8627",
   "metadata": {},
   "outputs": [],
   "source": [
    "# lets slice the data into training and test sets\n",
    "\n",
    "size_data = input_data.shape.numel()\n",
    "idx_training = 5000\n",
    "idx_test = idx_training - size_data\n",
    "\n",
    "perm_indices = torch.randperm(6000)\n",
    "\n",
    "training_input_data = input_data[perm_indices[:idx_training]]\n",
    "training_output_data = output_data[perm_indices[:idx_training]]\n",
    "\n",
    "test_input_data = input_data[~perm_indices[idx_test:]]\n",
    "test_output_data = output_data[~perm_indices[idx_test:]]\n",
    "\n",
    "plt.subplots(figsize=(2.5,2.5))\n",
    "plt.scatter(x=test_input_data[::50], y=test_output_data[::50], color='r', alpha=0.5)\n",
    "plt.scatter(x=training_input_data[::50], y=training_output_data[::50], color='k', alpha=0.5)"
   ]
  },
  {
   "cell_type": "code",
   "execution_count": null,
   "id": "911fe811-5510-4ea8-88ed-1fdf66615162",
   "metadata": {},
   "outputs": [],
   "source": [
    "# datasets and dataloaders\n",
    "class CustomDataSet(Dataset):\n",
    "    def __init__(self, input, output):\n",
    "        self.input = input\n",
    "        self.output = output\n",
    "\n",
    "    def __len__(self):\n",
    "        return len(self.input)\n",
    "\n",
    "    def __getitem__(self, idx):\n",
    "        x = self.input[idx]\n",
    "        y = self.output[idx]\n",
    "        return x, y\n",
    "\n",
    "train_dataloader = DataLoader(CustomDataSet(training_input_data, training_output_data), batch_size=batch_size, shuffle=True)\n",
    "test_dataloader = DataLoader(CustomDataSet(test_input_data, test_output_data), batch_size=batch_size, shuffle=True)"
   ]
  },
  {
   "cell_type": "code",
   "execution_count": null,
   "id": "44a7e45b-da78-493d-809c-f26c64e91bc5",
   "metadata": {},
   "outputs": [],
   "source": [
    "class polynomial_model(nn.Module):\n",
    "    def __init__(self):\n",
    "        super().__init__()\n",
    "        self.a = nn.Parameter(torch.zeros(())) # initially parameters were intitalized with torch.randn(()), the loss function did not converge quickly in that case\n",
    "        self.b = nn.Parameter(torch.zeros(()))\n",
    "        self.c = nn.Parameter(torch.zeros(()))\n",
    "        self.d = nn.Parameter(torch.zeros(()))\n",
    "        self.e = nn.Parameter(torch.zeros(()))\n",
    "        self.f = nn.Parameter(torch.zeros(()))\n",
    "        self.g = nn.Parameter(torch.zeros(()))\n",
    "    \n",
    "    def forward(self,x):\n",
    "        logits = self.a + self.b*x + self.c*(x**2) + self.d*(x**3) + self.e*(x**4) + self.f*(x**5) + self.g*(x**6)\n",
    "        return logits\n",
    "\n",
    "model = polynomial_model()\n",
    "model"
   ]
  },
  {
   "cell_type": "code",
   "execution_count": null,
   "id": "53e83a96-2c97-4471-94a5-3c5d463ea797",
   "metadata": {},
   "outputs": [],
   "source": [
    "# Loss function\n",
    "loss_fn = nn.MSELoss()"
   ]
  },
  {
   "cell_type": "code",
   "execution_count": null,
   "id": "a2a1a162-f722-4c23-9588-ace32eb06cd3",
   "metadata": {},
   "outputs": [],
   "source": [
    "# optimizer\n",
    "polynomial_optimizer = torch.optim.SGD(model.parameters(), lr=learning_rate)"
   ]
  },
  {
   "cell_type": "code",
   "execution_count": null,
   "id": "9721ae0b-a93c-4df7-a214-8fbcd9bbe507",
   "metadata": {},
   "outputs": [],
   "source": [
    "# constructing training and testing\n",
    "def train_loop(dataloader, model, loss_fn, optimizer):\n",
    "    size = len(dataloader.dataset)\n",
    "    model.train()\n",
    "    for batch, (X, y) in enumerate(dataloader):\n",
    "        pred=model(X)\n",
    "        loss=loss_fn(pred,y)\n",
    "        loss.backward()\n",
    "        optimizer.step()\n",
    "        optimizer.zero_grad()\n",
    "        if batch%2==0:\n",
    "            loss, current = loss.item(), batch*batch_size + len(X)\n",
    "            print(\"loss:\", loss, current/size)  \n",
    "\n",
    "def test_loop(dataloader, model, loss_fn):\n",
    "    model.eval() # set model to evaluation mode\n",
    "    size =len(dataloader.dataset)\n",
    "    num_batches = len(dataloader)\n",
    "    test_loss, correct = 0, 0\n",
    "    with torch.no_grad(): # since in test_mode\n",
    "        for X, y in dataloader:\n",
    "            pred = model(X)\n",
    "            test_loss += loss_fn(pred, y).item()\n",
    "        test_loss /= num_batches\n",
    "        print(\"Test Loss:\", test_loss) "
   ]
  },
  {
   "cell_type": "code",
   "execution_count": null,
   "id": "080207c1-0593-4313-9990-d7dff0847db9",
   "metadata": {
    "scrolled": true
   },
   "outputs": [],
   "source": [
    "for t in range(epochs):\n",
    "    print(f\"Epoch {t+1}\\n----------------------------------\")\n",
    "    train_loop(train_dataloader, model, loss_fn, polynomial_optimizer)\n",
    "    test_loop(test_dataloader, model, loss_fn)\n",
    "print(\"Done!\")"
   ]
  },
  {
   "cell_type": "code",
   "execution_count": null,
   "id": "b79fbee6-c503-4966-8aa3-bc0a7ae977bc",
   "metadata": {},
   "outputs": [],
   "source": [
    "list(model.parameters())"
   ]
  },
  {
   "cell_type": "code",
   "execution_count": null,
   "id": "dfb58060-89ce-48c1-bab9-e94bac661cdf",
   "metadata": {},
   "outputs": [],
   "source": [
    "# Evaluating Fit\n",
    "def polynomial_model(params, X):\n",
    "    return params[0] + params[1]*X + params[2]*(X**2) + params[3]*(X**3) + params[4]*(X**4) + params[5]*(X**5) + params[6]*(X**6)"
   ]
  },
  {
   "cell_type": "code",
   "execution_count": null,
   "id": "8be1d6da-9c47-4139-ace2-f6f832f9a6bf",
   "metadata": {},
   "outputs": [],
   "source": [
    "pytorch_fit_data = polynomial_model(list(model.parameters()), input_data).detach().numpy()"
   ]
  },
  {
   "cell_type": "code",
   "execution_count": null,
   "id": "4c35cbfd-39a8-4886-8fab-12ed92f216fb",
   "metadata": {},
   "outputs": [],
   "source": [
    "plt.subplots(figsize=(2.5,2.5))\n",
    "plt.plot(input_data, fit_data, 'b:')\n",
    "plt.plot(input_data, pytorch_fit_data, 'r:')\n",
    "plt.plot(input_data[::100], output_data[::100], 'bo', alpha=0.5)"
   ]
  }
 ],
 "metadata": {
  "kernelspec": {
   "display_name": "Python 3 (ipykernel)",
   "language": "python",
   "name": "python3"
  },
  "language_info": {
   "codemirror_mode": {
    "name": "ipython",
    "version": 3
   },
   "file_extension": ".py",
   "mimetype": "text/x-python",
   "name": "python",
   "nbconvert_exporter": "python",
   "pygments_lexer": "ipython3",
   "version": "3.10.13"
  }
 },
 "nbformat": 4,
 "nbformat_minor": 5
}

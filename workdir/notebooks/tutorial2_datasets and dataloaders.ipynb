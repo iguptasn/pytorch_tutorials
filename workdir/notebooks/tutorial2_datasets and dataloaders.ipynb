{
 "cells": [
  {
   "cell_type": "code",
   "execution_count": 1,
   "id": "0755d860-9f36-43c1-8dfd-0ac4cf0a0221",
   "metadata": {},
   "outputs": [],
   "source": [
    "%load_ext autoreload\n",
    "%autoreload 2"
   ]
  },
  {
   "cell_type": "code",
   "execution_count": 1,
   "id": "c29d3da0-e53b-4c5e-91ec-0ca8801f4422",
   "metadata": {},
   "outputs": [],
   "source": [
    "%load_ext autoreload\n",
    "%autoreload 2"
   ]
  },
  {
   "cell_type": "code",
   "execution_count": 2,
   "id": "524140ba-75c5-4787-a2f9-a375e6c72a25",
   "metadata": {},
   "outputs": [],
   "source": [
    "import torch\n",
    "from torchvision import datasets\n",
    "from torchvision.transforms import ToTensor, Lambda"
   ]
  },
  {
   "cell_type": "code",
   "execution_count": 2,
   "id": "171c446f-8b9a-4423-a9aa-f2c4ca57e1f5",
   "metadata": {},
   "outputs": [],
   "source": [
    "import torch\n",
    "from torch.utils.data import Dataset\n",
    "from torchvision import datasets\n",
    "from torchvision.transforms import ToTensor\n",
    "import matplotlib.pyplot as plt\n",
    "import numpy as np"
   ]
  },
  {
   "cell_type": "code",
   "execution_count": 3,
   "id": "1c9ff65a-8be1-4f60-9708-cf7003aec6f0",
   "metadata": {},
   "outputs": [],
   "source": [
    "import os\n",
    "import pandas as pd\n",
    "from torchvision.io import read_image\n",
    "from torch.utils.data import DataLoader"
   ]
  },
  {
   "cell_type": "code",
   "execution_count": 13,
   "id": "4e49fbdb-3e84-4a16-9132-369e8c8a0126",
   "metadata": {},
   "outputs": [],
   "source": [
    "import skimage.io as skio"
   ]
  },
  {
   "cell_type": "markdown",
   "id": "c1c5f7ee-7144-405c-a0f6-1a1a3f3a626f",
   "metadata": {},
   "source": [
    "two data primitives:\n",
    "1. torch.utils.data.DataLoader - wraps an iterable around Dataset to enable easy access to samples\n",
    "2. torch.utils.data.Dataset - stores samples and corresponding labels\n",
    "\n",
    "Image datasets to prototype models can be found https://pytorch.org/vision/stable/datasets.html"
   ]
  },
  {
   "cell_type": "code",
   "execution_count": 4,
   "id": "ccdfeb70-2f0d-4baa-95b7-ecf7620c5d75",
   "metadata": {},
   "outputs": [],
   "source": [
    "training_data = datasets.FashionMNIST(root=\"data\", train=True, download=True, transform=ToTensor())\n",
    "test_data = datasets.FashionMNIST(root=\"data\", train=False, download=True, transform=ToTensor())"
   ]
  },
  {
   "cell_type": "code",
   "execution_count": 11,
   "id": "66ce2149-f14b-490a-9451-8d39734d85b7",
   "metadata": {},
   "outputs": [],
   "source": [
    "labels_map = {\n",
    "    0: \"T-Shirt\",\n",
    "    1: \"Trouser\",\n",
    "    2: \"Pullover\",\n",
    "    3: \"Dress\",\n",
    "    4: \"Coat\",\n",
    "    5: \"Sandal\",\n",
    "    6: \"Shirt\",\n",
    "    7: \"Sneaker\",\n",
    "    8: \"Bag\",\n",
    "    9: \"Ankle Boot\",\n",
    "}"
   ]
  },
  {
   "cell_type": "code",
   "execution_count": 24,
   "id": "7c8081e6-9b99-4c74-b3ea-c1d89d710966",
   "metadata": {},
   "outputs": [
    {
     "data": {
      "text/plain": [
       "<matplotlib.image.AxesImage at 0x7fdaaa46ef50>"
      ]
     },
     "execution_count": 24,
     "metadata": {},
     "output_type": "execute_result"
    },
    {
     "data": {
      "image/png": "[encoded data removed]",
      "text/plain": [
       "<Figure size 640x480 with 1 Axes>"
      ]
     },
     "metadata": {},
     "output_type": "display_data"
    }
   ],
   "source": [
    "plt.imshow(training_data[10][0].squeeze(), cmap='gray')"
   ]
  },
  {
   "cell_type": "markdown",
   "id": "01b8342c-6f0e-4be5-8956-7d04f40ebb95",
   "metadata": {},
   "source": [
    "In this section we create a custom Dataset class for my files. it needs to have three functions __init__, __len__, __getitem__ "
   ]
  },
  {
   "cell_type": "code",
   "execution_count": 48,
   "id": "99fcee5a-0647-4cad-b2d9-078b156eef11",
   "metadata": {},
   "outputs": [],
   "source": [
    "# ## Creating a dataset for manual loading \n",
    "# key = []\n",
    "# for i in range(100):\n",
    "#     img = training_data[i][0].numpy()\n",
    "#     label = labels_map[training_data[i][1]]\n",
    "#     img_path = './data/iterable_FashionMNIST/img_{}.tif'.format(i)\n",
    "#     skio.imsave(img_path, img)\n",
    "#     key.append(\n",
    "#         {\n",
    "#         'img_path': img_path,\n",
    "#         'label': label,\n",
    "#         }\n",
    "#     )\n",
    "# pd.DataFrame(key).to_csv('./data/annotations_file.csv', index=False)"
   ]
  },
  {
   "cell_type": "code",
   "execution_count": 52,
   "id": "82aefcbe-3679-494a-a85e-6f163e5e5075",
   "metadata": {},
   "outputs": [],
   "source": [
    "class CustomImageDataset(Dataset):\n",
    "    def __init__(self, annotations_file, img_dir, transform=None, target_transform=None):\n",
    "        self.img_labels = pd.read_csv(annotations_file)\n",
    "        self.img_dir = img_dir\n",
    "        self.transform = transform\n",
    "        self.target_transform = target_transform\n",
    "\n",
    "    def __len__(self):\n",
    "        return len(self.img_labels)\n",
    "\n",
    "    def __getitem__(self, idx):\n",
    "        img_path = self.img_labels.iloc[idx,0]\n",
    "        image = torch.tensor(skio.imread(img_path))\n",
    "        label = self.img_labels.iloc[idx,1]\n",
    "        if self.transform:\n",
    "            image = self.transform(image)\n",
    "        if self.target_transform:\n",
    "            label = self.target_transform(label)\n",
    "        return image, label"
   ]
  },
  {
   "cell_type": "code",
   "execution_count": 65,
   "id": "2de08f9b-f421-4f66-a8d7-885a0a35d687",
   "metadata": {},
   "outputs": [],
   "source": [
    "custom_data = CustomImageDataset(\n",
    "    annotations_file='./data/annotations_file.csv', \n",
    "    img_dir='./data/iterable_FashionMNIST/'\n",
    ")"
   ]
  },
  {
   "cell_type": "code",
   "execution_count": 66,
   "id": "90a34a97-2f69-4141-90b1-f3b6afcf2243",
   "metadata": {},
   "outputs": [
    {
     "data": {
      "text/plain": [
       "Text(0.5, 1.0, 'T-Shirt')"
      ]
     },
     "execution_count": 66,
     "metadata": {},
     "output_type": "execute_result"
    },
    {
     "data": {
      "image/png": "[encoded data removed]",
      "text/plain": [
       "<Figure size 640x480 with 1 Axes>"
      ]
     },
     "metadata": {},
     "output_type": "display_data"
    }
   ],
   "source": [
    "plt.imshow(custom_data[10][0].squeeze(), cmap='gray')\n",
    "plt.title(custom_data[10][1])"
   ]
  },
  {
   "cell_type": "markdown",
   "id": "e0fc18c0-5e20-424c-a409-8229e06aab6c",
   "metadata": {},
   "source": [
    "The following dataloaders let us iterate through the training and test data"
   ]
  },
  {
   "cell_type": "code",
   "execution_count": 81,
   "id": "7b633375-167b-4d70-ab12-14be9f75615b",
   "metadata": {},
   "outputs": [],
   "source": [
    "train_dataloader = DataLoader(training_data, batch_size=64, shuffle=True)\n",
    "test_dataloader = DataLoader(test_data, batch_size=64, shuffle=True)\n",
    "custom_dataloader = DataLoader(custom_data, batch_size=100, shuffle=True)"
   ]
  },
  {
   "cell_type": "code",
   "execution_count": 86,
   "id": "851c7f51-2dbd-43b9-9aa4-e41d92b069d4",
   "metadata": {},
   "outputs": [
    {
     "data": {
      "text/plain": [
       "Text(0.5, 1.0, 'Sandal')"
      ]
     },
     "execution_count": 86,
     "metadata": {},
     "output_type": "execute_result"
    },
    {
     "data": {
      "image/png": "[encoded data removed]",
      "text/plain": [
       "<Figure size 640x480 with 1 Axes>"
      ]
     },
     "metadata": {},
     "output_type": "display_data"
    }
   ],
   "source": [
    "train_features, train_labels = next(iter(custom_dataloader))\n",
    "plt.imshow(train_features[0].squeeze(), cmap='gray')\n",
    "plt.title(train_labels[0])"
   ]
  }
 ],
 "metadata": {
  "kernelspec": {
   "display_name": "Python 3 (ipykernel)",
   "language": "python",
   "name": "python3"
  },
  "language_info": {
   "codemirror_mode": {
    "name": "ipython",
    "version": 3
   },
   "file_extension": ".py",
   "mimetype": "text/x-python",
   "name": "python",
   "nbconvert_exporter": "python",
   "pygments_lexer": "ipython3",
   "version": "3.10.13"
  }
 },
 "nbformat": 4,
 "nbformat_minor": 5
}

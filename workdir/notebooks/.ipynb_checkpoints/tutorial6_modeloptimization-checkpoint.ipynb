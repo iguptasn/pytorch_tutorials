{
 "cells": [
  {
   "cell_type": "code",
   "execution_count": 1,
   "id": "52f6c3af-fb21-4878-b2d5-991cc9a2400a",
   "metadata": {},
   "outputs": [],
   "source": [
    "%load_ext autoreload\n",
    "%autoreload 2"
   ]
  },
  {
   "cell_type": "code",
   "execution_count": 2,
   "id": "1fb089b9-94a6-4efa-975f-62575bdd62c4",
   "metadata": {},
   "outputs": [],
   "source": [
    "import torch\n",
    "from torch import nn\n",
    "from torch.utils.data import DataLoader\n",
    "from torchvision import datasets\n",
    "from torchvision.transforms import ToTensor"
   ]
  },
  {
   "cell_type": "code",
   "execution_count": 3,
   "id": "bf5407f2-cfa3-46e7-bbc9-68d9eb744818",
   "metadata": {},
   "outputs": [],
   "source": [
    "# set device here\n",
    "device = \"cuda\""
   ]
  },
  {
   "cell_type": "code",
   "execution_count": 4,
   "id": "56c30194-12df-4314-b775-85e9aa945201",
   "metadata": {},
   "outputs": [],
   "source": [
    "# importing training and testing data\n",
    "training_data = datasets.FashionMNIST(root=\"data\", train=True, download=True, transform=ToTensor())\n",
    "test_data = datasets.FashionMNIST(root=\"data\", train=False, download=True, transform=ToTensor())"
   ]
  },
  {
   "cell_type": "code",
   "execution_count": 5,
   "id": "79232654-77b6-4fd3-912a-ab4353b8ccb6",
   "metadata": {},
   "outputs": [],
   "source": [
    "# creating dataloaders for train and test\n",
    "train_dataloader = DataLoader(dataset=training_data, batch_size=64, shuffle=True)\n",
    "test_dataloader = DataLoader(dataset=test_data, batch_size=64, shuffle=True)"
   ]
  },
  {
   "cell_type": "code",
   "execution_count": 6,
   "id": "92009cf0-7701-482f-bdff-269dc72d7e05",
   "metadata": {},
   "outputs": [
    {
     "data": {
      "text/plain": [
       "NeuralNetwork(\n",
       "  (flatten): Flatten(start_dim=1, end_dim=-1)\n",
       "  (linear_relu_stack): Sequential(\n",
       "    (0): Linear(in_features=784, out_features=512, bias=True)\n",
       "    (1): ReLU()\n",
       "    (2): Linear(in_features=512, out_features=512, bias=True)\n",
       "    (3): ReLU()\n",
       "    (4): Linear(in_features=512, out_features=10, bias=True)\n",
       "  )\n",
       ")"
      ]
     },
     "execution_count": 6,
     "metadata": {},
     "output_type": "execute_result"
    }
   ],
   "source": [
    "# create neural network\n",
    "class NeuralNetwork(nn.Module):\n",
    "    def __init__(self):\n",
    "        super().__init__()\n",
    "        self.flatten = nn.Flatten()\n",
    "        self.linear_relu_stack = nn.Sequential(\n",
    "            nn.Linear(28*28, 512),\n",
    "            nn.ReLU(),\n",
    "            nn.Linear(512,512),\n",
    "            nn.ReLU(),\n",
    "            nn.Linear(512,10),\n",
    "        )\n",
    "    def forward(self, x):\n",
    "        x = self.flatten(x)\n",
    "        logits = self.linear_relu_stack(x)\n",
    "        return logits\n",
    "\n",
    "model = NeuralNetwork().to(device)\n",
    "model   "
   ]
  },
  {
   "cell_type": "code",
   "execution_count": 7,
   "id": "28519940-15fd-4918-b5a7-4047f5c78426",
   "metadata": {},
   "outputs": [],
   "source": [
    "# setting hyperparameters\n",
    "learning_rate = 1e-3\n",
    "batch_size = 64\n",
    "epochs = 10"
   ]
  },
  {
   "cell_type": "code",
   "execution_count": 8,
   "id": "7ee8649f-8a6e-4ba5-8aa3-42c472cf73f4",
   "metadata": {},
   "outputs": [],
   "source": [
    "# Loss function\n",
    "loss_fn = nn.CrossEntropyLoss()"
   ]
  },
  {
   "cell_type": "code",
   "execution_count": 9,
   "id": "6598053b-46db-4ea5-8907-a38370dae15d",
   "metadata": {},
   "outputs": [],
   "source": [
    "# Optimizer\n",
    "optimizer = torch.optim.SGD(model.parameters(), lr=learning_rate)"
   ]
  },
  {
   "cell_type": "code",
   "execution_count": 10,
   "id": "3cab0865-3f41-46a4-adc1-f1b3df14efc2",
   "metadata": {},
   "outputs": [],
   "source": [
    "# lets construct the training loop here\n",
    "def train_loop(dataloader, model, loss_fn, optimizer):\n",
    "    size = len(dataloader.dataset)\n",
    "    model.train() # set model to train mode\n",
    "    for batch, (X, y) in enumerate(dataloader):\n",
    "        X, y = X.to(device), y.to(device)\n",
    "        #computing prediction and loss\n",
    "        pred = model(X)\n",
    "        loss = loss_fn(pred, y)\n",
    "        #backpropagation\n",
    "        loss.backward()\n",
    "        optimizer.step() # this adjusts parameters by the gradients collected\n",
    "        optimizer.zero_grad() # this resets gradients collected to 0, to prevent adding up and double counting\n",
    "        #display status\n",
    "        if batch % 100 == 0:\n",
    "            loss, current = loss.item(), batch*batch_size + len(X)\n",
    "            print(\"loss:\", loss, current/size)  \n",
    "\n",
    "def test_loop(dataloader, model, loss_fn):\n",
    "    model.eval() # set model to evaluation mode\n",
    "    size =len(dataloader.dataset)\n",
    "    num_batches = len(dataloader)\n",
    "    test_loss, correct = 0, 0\n",
    "    with torch.no_grad(): # since in test_mode\n",
    "        for X, y in dataloader:\n",
    "            X, y = X.to(device), y.to(device)\n",
    "            pred = model(X)\n",
    "            test_loss += loss_fn(pred, y).item()\n",
    "            correct += (pred.argmax(1) == y).type(torch.float).sum().item()\n",
    "        test_loss /= num_batches\n",
    "        correct /= size\n",
    "        print(\"Test Loss:\", test_loss, \", Accuracy:\", correct) "
   ]
  },
  {
   "cell_type": "code",
   "execution_count": 11,
   "id": "cbb2842f-9da3-465b-a4b3-034006759636",
   "metadata": {},
   "outputs": [
    {
     "name": "stdout",
     "output_type": "stream",
     "text": [
      "Epoch 1\n",
      "----------------------------------\n",
      "Epoch 2\n",
      "----------------------------------\n",
      "Epoch 3\n",
      "----------------------------------\n",
      "Epoch 4\n",
      "----------------------------------\n",
      "Epoch 5\n",
      "----------------------------------\n",
      "Epoch 6\n",
      "----------------------------------\n",
      "Epoch 7\n",
      "----------------------------------\n",
      "Epoch 8\n",
      "----------------------------------\n",
      "Epoch 9\n",
      "----------------------------------\n",
      "Epoch 10\n",
      "----------------------------------\n",
      "Done!\n",
      "CPU times: user 1min 16s, sys: 4.44 s, total: 1min 20s\n",
      "Wall time: 1min 19s\n"
     ]
    }
   ],
   "source": [
    "for t in range(epochs):\n",
    "    print(f\"Epoch {t+1}\\n----------------------------------\")\n",
    "    train_loop(train_dataloader, model, loss_fn, optimizer)\n",
    "    test_loop(test_dataloader, model, loss_fn)\n",
    "print(\"Done!\")"
   ]
  },
  {
   "cell_type": "code",
   "execution_count": null,
   "id": "2f6dfbf7-25d0-4ac5-8453-a1ae42bd8d8d",
   "metadata": {},
   "outputs": [],
   "source": []
  }
 ],
 "metadata": {
  "kernelspec": {
   "display_name": "Python 3 (ipykernel)",
   "language": "python",
   "name": "python3"
  },
  "language_info": {
   "codemirror_mode": {
    "name": "ipython",
    "version": 3
   },
   "file_extension": ".py",
   "mimetype": "text/x-python",
   "name": "python",
   "nbconvert_exporter": "python",
   "pygments_lexer": "ipython3",
   "version": "3.10.13"
  }
 },
 "nbformat": 4,
 "nbformat_minor": 5
}

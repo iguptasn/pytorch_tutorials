{
 "cells": [
  {
   "cell_type": "code",
   "execution_count": 1,
   "id": "34228659-48b8-4b43-9b8c-d74994d0baea",
   "metadata": {},
   "outputs": [],
   "source": [
    "%load_ext autoreload\n",
    "%autoreload 2"
   ]
  },
  {
   "cell_type": "code",
   "execution_count": 2,
   "id": "b9f7bb47-9ba7-4356-8ba4-d8fab3c07328",
   "metadata": {},
   "outputs": [],
   "source": [
    "import torch\n",
    "import numpy as np"
   ]
  },
  {
   "cell_type": "code",
   "execution_count": 3,
   "id": "17be6545-8115-4886-81a1-1b60d22c9e0a",
   "metadata": {},
   "outputs": [
    {
     "data": {
      "text/plain": [
       "tensor([[0.7598, 0.4631, 0.1341,  ..., 0.0470, 0.8023, 0.6352],\n",
       "        [0.3156, 0.4405, 0.0802,  ..., 0.2267, 0.6748, 0.9082],\n",
       "        [0.4126, 0.3887, 0.2969,  ..., 0.0794, 0.3039, 0.5560],\n",
       "        ...,\n",
       "        [0.7992, 0.9384, 0.8660,  ..., 0.8076, 0.5519, 0.5746],\n",
       "        [0.6467, 0.9032, 0.3929,  ..., 0.8716, 0.4488, 0.2312],\n",
       "        [0.7890, 0.6051, 0.0055,  ..., 0.2346, 0.1194, 0.1913]],\n",
       "       dtype=torch.float64)"
      ]
     },
     "execution_count": 3,
     "metadata": {},
     "output_type": "execute_result"
    }
   ],
   "source": [
    "# creating tensors directly\n",
    "data = np.random.random((100,100))\n",
    "x_data = torch.tensor(data)\n",
    "x_data"
   ]
  },
  {
   "cell_type": "code",
   "execution_count": 4,
   "id": "a4c08790-c362-4ee4-9ba9-6cc4f7973112",
   "metadata": {},
   "outputs": [
    {
     "data": {
      "text/plain": [
       "tensor([[0.7598, 0.4631, 0.1341,  ..., 0.0470, 0.8023, 0.6352],\n",
       "        [0.3156, 0.4405, 0.0802,  ..., 0.2267, 0.6748, 0.9082],\n",
       "        [0.4126, 0.3887, 0.2969,  ..., 0.0794, 0.3039, 0.5560],\n",
       "        ...,\n",
       "        [0.7992, 0.9384, 0.8660,  ..., 0.8076, 0.5519, 0.5746],\n",
       "        [0.6467, 0.9032, 0.3929,  ..., 0.8716, 0.4488, 0.2312],\n",
       "        [0.7890, 0.6051, 0.0055,  ..., 0.2346, 0.1194, 0.1913]],\n",
       "       dtype=torch.float64)"
      ]
     },
     "execution_count": 4,
     "metadata": {},
     "output_type": "execute_result"
    }
   ],
   "source": [
    "# creating tensors from numpy arrays \n",
    "x_np = torch.from_numpy(data)\n",
    "x_np"
   ]
  },
  {
   "cell_type": "code",
   "execution_count": 5,
   "id": "3edd7d85-a952-4dbb-8ee6-5d3731289755",
   "metadata": {},
   "outputs": [
    {
     "data": {
      "text/plain": [
       "(tensor([[1., 1., 1.,  ..., 1., 1., 1.],\n",
       "         [1., 1., 1.,  ..., 1., 1., 1.],\n",
       "         [1., 1., 1.,  ..., 1., 1., 1.],\n",
       "         ...,\n",
       "         [1., 1., 1.,  ..., 1., 1., 1.],\n",
       "         [1., 1., 1.,  ..., 1., 1., 1.],\n",
       "         [1., 1., 1.,  ..., 1., 1., 1.]], dtype=torch.float64),\n",
       " tensor([[0.5976, 0.8977, 0.4748,  ..., 0.7581, 0.0924, 0.9813],\n",
       "         [0.4373, 0.4155, 0.8838,  ..., 0.3931, 0.7274, 0.9537],\n",
       "         [0.0933, 0.9434, 0.3893,  ..., 0.1129, 0.9062, 0.0154],\n",
       "         ...,\n",
       "         [0.5394, 0.5676, 0.9891,  ..., 0.4391, 0.6730, 0.6702],\n",
       "         [0.1469, 0.5472, 0.7944,  ..., 0.8305, 0.2899, 0.8590],\n",
       "         [0.9799, 0.6846, 0.9245,  ..., 0.3669, 0.4949, 0.7953]],\n",
       "        dtype=torch.float64))"
      ]
     },
     "execution_count": 5,
     "metadata": {},
     "output_type": "execute_result"
    }
   ],
   "source": [
    "# creating tensors from other tensors\n",
    "x_ones = torch.ones_like(x_np)\n",
    "x_rand = torch.rand_like(x_data)\n",
    "x_ones, x_rand"
   ]
  },
  {
   "cell_type": "code",
   "execution_count": 6,
   "id": "d003e7fa-233e-46ea-a50b-21383d222482",
   "metadata": {},
   "outputs": [
    {
     "data": {
      "text/plain": [
       "(tensor([[1., 1., 1., 1., 1., 1., 1., 1., 1., 1.],\n",
       "         [1., 1., 1., 1., 1., 1., 1., 1., 1., 1.],\n",
       "         [1., 1., 1., 1., 1., 1., 1., 1., 1., 1.],\n",
       "         [1., 1., 1., 1., 1., 1., 1., 1., 1., 1.],\n",
       "         [1., 1., 1., 1., 1., 1., 1., 1., 1., 1.],\n",
       "         [1., 1., 1., 1., 1., 1., 1., 1., 1., 1.],\n",
       "         [1., 1., 1., 1., 1., 1., 1., 1., 1., 1.],\n",
       "         [1., 1., 1., 1., 1., 1., 1., 1., 1., 1.],\n",
       "         [1., 1., 1., 1., 1., 1., 1., 1., 1., 1.],\n",
       "         [1., 1., 1., 1., 1., 1., 1., 1., 1., 1.]]),\n",
       " tensor([[0., 0., 0., 0., 0., 0., 0., 0., 0., 0.],\n",
       "         [0., 0., 0., 0., 0., 0., 0., 0., 0., 0.],\n",
       "         [0., 0., 0., 0., 0., 0., 0., 0., 0., 0.],\n",
       "         [0., 0., 0., 0., 0., 0., 0., 0., 0., 0.],\n",
       "         [0., 0., 0., 0., 0., 0., 0., 0., 0., 0.],\n",
       "         [0., 0., 0., 0., 0., 0., 0., 0., 0., 0.],\n",
       "         [0., 0., 0., 0., 0., 0., 0., 0., 0., 0.],\n",
       "         [0., 0., 0., 0., 0., 0., 0., 0., 0., 0.],\n",
       "         [0., 0., 0., 0., 0., 0., 0., 0., 0., 0.],\n",
       "         [0., 0., 0., 0., 0., 0., 0., 0., 0., 0.]]),\n",
       " tensor([[0.9646, 0.7188, 0.0114, 0.8052, 0.6991, 0.8474, 0.5773, 0.1484, 0.9893,\n",
       "          0.4565],\n",
       "         [0.6651, 0.4709, 0.2581, 0.6711, 0.6429, 0.0622, 0.6530, 0.3179, 0.4144,\n",
       "          0.6744],\n",
       "         [0.6485, 0.9871, 0.4012, 0.1934, 0.1005, 0.5126, 0.7517, 0.3418, 0.7417,\n",
       "          0.1052],\n",
       "         [0.3328, 0.4762, 0.7504, 0.9870, 0.3987, 0.3713, 0.3817, 0.5278, 0.0065,\n",
       "          0.8589],\n",
       "         [0.0989, 0.8891, 0.5766, 0.7103, 0.4132, 0.3448, 0.2811, 0.3459, 0.2327,\n",
       "          0.2000],\n",
       "         [0.8460, 0.2217, 0.9593, 0.9511, 0.2096, 0.0974, 0.7290, 0.2732, 0.9639,\n",
       "          0.2023],\n",
       "         [0.3020, 0.1577, 0.0869, 0.4094, 0.8729, 0.8832, 0.8592, 0.6378, 0.3678,\n",
       "          0.6008],\n",
       "         [0.0968, 0.4312, 0.4863, 0.3122, 0.1639, 0.3701, 0.2125, 0.3074, 0.6374,\n",
       "          0.4864],\n",
       "         [0.0176, 0.2315, 0.8434, 0.2853, 0.6411, 0.2199, 0.4547, 0.5605, 0.0058,\n",
       "          0.9906],\n",
       "         [0.1102, 0.5105, 0.1322, 0.4420, 0.7944, 0.9441, 0.9701, 0.9522, 0.8545,\n",
       "          0.0174]]))"
      ]
     },
     "execution_count": 6,
     "metadata": {},
     "output_type": "execute_result"
    }
   ],
   "source": [
    "# creating tensors with a shape \n",
    "shape = (10,10)\n",
    "s_ones = torch.ones(shape)\n",
    "s_rand = torch.rand(shape)\n",
    "s_zeros = torch.zeros(shape)\n",
    "s_ones, s_zeros, s_rand"
   ]
  },
  {
   "cell_type": "code",
   "execution_count": 7,
   "id": "5f89d98f-9bc9-4eb2-b298-ff04fa7f8567",
   "metadata": {},
   "outputs": [
    {
     "data": {
      "text/plain": [
       "(torch.Size([10, 10]), torch.float32, device(type='cpu'))"
      ]
     },
     "execution_count": 7,
     "metadata": {},
     "output_type": "execute_result"
    }
   ],
   "source": [
    "# tensor attributes\n",
    "s_rand.shape, s_zeros.dtype, s_ones.device"
   ]
  },
  {
   "cell_type": "code",
   "execution_count": 10,
   "id": "2e19143b-5035-4b3c-bd25-e0a01c6d2d3b",
   "metadata": {},
   "outputs": [
    {
     "data": {
      "text/plain": [
       "(torch.Size([10, 10]), torch.float32, device(type='cuda', index=0))"
      ]
     },
     "execution_count": 10,
     "metadata": {},
     "output_type": "execute_result"
    }
   ],
   "source": [
    "# tensor device to gpu\n",
    "if torch.cuda.is_available(): s_rand = s_rand.to(\"cuda\")\n",
    "s_rand.shape, s_rand.dtype, s_rand.device"
   ]
  },
  {
   "cell_type": "code",
   "execution_count": 16,
   "id": "70dba6d3-e8b4-40c0-b360-61fb2f9fbf5a",
   "metadata": {},
   "outputs": [
    {
     "data": {
      "text/plain": [
       "(torch.Size([10, 10]), torch.float32, device(type='cpu'))"
      ]
     },
     "execution_count": 16,
     "metadata": {},
     "output_type": "execute_result"
    }
   ],
   "source": [
    "# tensor device back to cpu\n",
    "s_rand = s_rand.to(\"cpu\")\n",
    "s_rand.shape, s_rand.dtype, s_rand.device"
   ]
  },
  {
   "cell_type": "code",
   "execution_count": 19,
   "id": "8793de61-bda1-4a26-a941-43d126d612b6",
   "metadata": {},
   "outputs": [
    {
     "data": {
      "text/plain": [
       "(tensor([[0.9646, 0.7188, 0.0114, 0.8052, 0.6991],\n",
       "         [0.6651, 0.4709, 0.2581, 0.6711, 0.6429]]),\n",
       " tensor([[0.9646, 0.7188, 0.0114, 0.8052, 0.6991],\n",
       "         [0.6651, 0.4709, 0.2581, 0.6711, 0.6429],\n",
       "         [1.0000, 1.0000, 1.0000, 1.0000, 1.0000],\n",
       "         [1.0000, 1.0000, 1.0000, 1.0000, 1.0000]]))"
      ]
     },
     "execution_count": 19,
     "metadata": {},
     "output_type": "execute_result"
    }
   ],
   "source": [
    "# slicing and concatenation\n",
    "s_rand[:2,:5], torch.cat([s_rand[:2,:5], s_ones[:2,:5]], dim=0)"
   ]
  },
  {
   "cell_type": "code",
   "execution_count": 27,
   "id": "40ec328a-f92e-484e-a397-e2fad759e1f2",
   "metadata": {},
   "outputs": [
    {
     "data": {
      "text/plain": [
       "(tensor([[0.3639, 0.8726, 0.8560, 0.0504],\n",
       "         [0.4933, 0.1323, 0.0922, 0.0533],\n",
       "         [0.0238, 0.7172, 0.2330, 0.2553],\n",
       "         [0.7679, 0.0150, 0.5543, 0.9658]]),\n",
       " tensor([[0.4407, 0.3502, 0.3829, 0.2488],\n",
       "         [0.1027, 0.4773, 0.4417, 0.6903],\n",
       "         [0.0106, 0.1724, 0.1151, 0.7032],\n",
       "         [0.5643, 0.7614, 0.9561, 0.9252]]))"
      ]
     },
     "execution_count": 27,
     "metadata": {},
     "output_type": "execute_result"
    }
   ],
   "source": [
    "# arithematic\n",
    "m1 = torch.rand([4,4])\n",
    "m2 = torch.rand([4,4])\n",
    "m1, m2"
   ]
  },
  {
   "cell_type": "code",
   "execution_count": 28,
   "id": "636eec09-7bd6-45af-b0f2-05eda53e54b9",
   "metadata": {},
   "outputs": [
    {
     "data": {
      "text/plain": [
       "tensor([[1.6035e-01, 3.0562e-01, 3.2776e-01, 1.2531e-02],\n",
       "        [5.0661e-02, 6.3121e-02, 4.0726e-02, 3.6822e-02],\n",
       "        [2.5176e-04, 1.2362e-01, 2.6815e-02, 1.7953e-01],\n",
       "        [4.3334e-01, 1.1394e-02, 5.3002e-01, 8.9352e-01]])"
      ]
     },
     "execution_count": 28,
     "metadata": {},
     "output_type": "execute_result"
    }
   ],
   "source": [
    "# element wise multiplication\n",
    "m1*m2"
   ]
  },
  {
   "cell_type": "code",
   "execution_count": 31,
   "id": "4a46a47f-1f83-41a8-94f2-7a64f3a6f0f0",
   "metadata": {},
   "outputs": [
    {
     "data": {
      "text/plain": [
       "tensor([[1.6035e-01, 3.0562e-01, 3.2776e-01, 1.2531e-02],\n",
       "        [5.0661e-02, 6.3121e-02, 4.0726e-02, 3.6822e-02],\n",
       "        [2.5176e-04, 1.2362e-01, 2.6815e-02, 1.7953e-01],\n",
       "        [4.3334e-01, 1.1394e-02, 5.3002e-01, 8.9352e-01]])"
      ]
     },
     "execution_count": 31,
     "metadata": {},
     "output_type": "execute_result"
    }
   ],
   "source": [
    "torch.mul(m1, m2)"
   ]
  },
  {
   "cell_type": "code",
   "execution_count": 29,
   "id": "b17d7c3c-ff50-45bb-9969-f7449818f2a9",
   "metadata": {},
   "outputs": [
    {
     "data": {
      "text/plain": [
       "tensor([[0.2874, 0.7298, 0.6714, 1.3414],\n",
       "        [0.2620, 0.2924, 0.3089, 0.3282],\n",
       "        [0.2307, 0.5852, 0.5968, 0.9011],\n",
       "        [0.8908, 1.1070, 1.2879, 1.4847]])"
      ]
     },
     "execution_count": 29,
     "metadata": {},
     "output_type": "execute_result"
    }
   ],
   "source": [
    "# matrix multiplication\n",
    "m1 @ m2"
   ]
  },
  {
   "cell_type": "code",
   "execution_count": 30,
   "id": "bbaed03c-54dd-4632-b744-c0657e6720b5",
   "metadata": {},
   "outputs": [
    {
     "data": {
      "text/plain": [
       "tensor([[0.2874, 0.7298, 0.6714, 1.3414],\n",
       "        [0.2620, 0.2924, 0.3089, 0.3282],\n",
       "        [0.2307, 0.5852, 0.5968, 0.9011],\n",
       "        [0.8908, 1.1070, 1.2879, 1.4847]])"
      ]
     },
     "execution_count": 30,
     "metadata": {},
     "output_type": "execute_result"
    }
   ],
   "source": [
    "# matrix multiplication\n",
    "torch.matmul(m1, m2)"
   ]
  },
  {
   "cell_type": "code",
   "execution_count": 34,
   "id": "2d189dcb-0723-427d-853c-3d3c834e437b",
   "metadata": {},
   "outputs": [
    {
     "data": {
      "text/plain": [
       "6.4463982582092285"
      ]
     },
     "execution_count": 34,
     "metadata": {},
     "output_type": "execute_result"
    }
   ],
   "source": [
    "# converting to numerical value for single value tensor\n",
    "m1.sum().item()"
   ]
  },
  {
   "cell_type": "code",
   "execution_count": 35,
   "id": "f5546fac-e93d-4bf4-bc42-9c7d9d18f827",
   "metadata": {},
   "outputs": [
    {
     "data": {
      "text/plain": [
       "tensor([[0.3639, 0.4933, 0.0238, 0.7679],\n",
       "        [0.8726, 0.1323, 0.7172, 0.0150],\n",
       "        [0.8560, 0.0922, 0.2330, 0.5543],\n",
       "        [0.0504, 0.0533, 0.2553, 0.9658]])"
      ]
     },
     "execution_count": 35,
     "metadata": {},
     "output_type": "execute_result"
    }
   ],
   "source": [
    "# transpose a tensor\n",
    "m1.T"
   ]
  },
  {
   "cell_type": "code",
   "execution_count": 41,
   "id": "7513834a-3ff6-4a42-b5d1-c75a59e22d84",
   "metadata": {},
   "outputs": [
    {
     "data": {
      "text/plain": [
       "array([[0.44067085, 0.35023057, 0.38291526, 0.24875557],\n",
       "       [0.10269308, 0.47726107, 0.44166583, 0.690346  ],\n",
       "       [0.01055652, 0.17235869, 0.11507291, 0.7031706 ],\n",
       "       [0.5642895 , 0.76141506, 0.9561253 , 0.92516685]], dtype=float32)"
      ]
     },
     "execution_count": 41,
     "metadata": {},
     "output_type": "execute_result"
    }
   ],
   "source": [
    "# Tensor to Numpy array when using tensor.numpy() function but not np.array() function\n",
    "np1 = m2.numpy()\n",
    "np1"
   ]
  },
  {
   "cell_type": "code",
   "execution_count": 49,
   "id": "11fb6d77-3fbd-4a3e-aa93-cd745dbbcece",
   "metadata": {},
   "outputs": [
    {
     "data": {
      "text/plain": [
       "array([[2.440671 , 2.3502307, 2.3829153, 2.2487555],\n",
       "       [2.102693 , 2.477261 , 2.441666 , 2.690346 ],\n",
       "       [2.0105565, 2.1723588, 2.115073 , 2.7031705],\n",
       "       [2.5642896, 2.761415 , 2.9561253, 2.9251668]], dtype=float32)"
      ]
     },
     "execution_count": 49,
     "metadata": {},
     "output_type": "execute_result"
    }
   ],
   "source": [
    "np2 = np.array(m2)\n",
    "np2"
   ]
  },
  {
   "cell_type": "code",
   "execution_count": 42,
   "id": "9737834c-a9dc-4408-b686-69dc0cd6a825",
   "metadata": {},
   "outputs": [
    {
     "data": {
      "text/plain": [
       "array([[1.4406708, 1.3502306, 1.3829153, 1.2487556],\n",
       "       [1.1026931, 1.4772611, 1.4416659, 1.690346 ],\n",
       "       [1.0105565, 1.1723588, 1.115073 , 1.7031705],\n",
       "       [1.5642896, 1.761415 , 1.9561253, 1.9251668]], dtype=float32)"
      ]
     },
     "execution_count": 42,
     "metadata": {},
     "output_type": "execute_result"
    }
   ],
   "source": [
    "m2.add_(1)\n",
    "np1"
   ]
  },
  {
   "cell_type": "code",
   "execution_count": 43,
   "id": "579127b0-390e-4ca2-9f9e-6f2b5dca34b6",
   "metadata": {},
   "outputs": [
    {
     "data": {
      "text/plain": [
       "tensor([[1.4407, 1.3502, 1.3829, 1.2488],\n",
       "        [1.1027, 1.4773, 1.4417, 1.6903],\n",
       "        [1.0106, 1.1724, 1.1151, 1.7032],\n",
       "        [1.5643, 1.7614, 1.9561, 1.9252]])"
      ]
     },
     "execution_count": 43,
     "metadata": {},
     "output_type": "execute_result"
    }
   ],
   "source": [
    "# numpy array to Tensor when using torch.from_numpy() function but not torch.tensor() function\n",
    "ta1 = torch.from_numpy(np1)\n",
    "ta1"
   ]
  },
  {
   "cell_type": "code",
   "execution_count": 44,
   "id": "a3ab760b-3486-4dcb-9406-00320c6e89d8",
   "metadata": {},
   "outputs": [
    {
     "data": {
      "text/plain": [
       "tensor([[2.4407, 2.3502, 2.3829, 2.2488],\n",
       "        [2.1027, 2.4773, 2.4417, 2.6903],\n",
       "        [2.0106, 2.1724, 2.1151, 2.7032],\n",
       "        [2.5643, 2.7614, 2.9561, 2.9252]])"
      ]
     },
     "execution_count": 44,
     "metadata": {},
     "output_type": "execute_result"
    }
   ],
   "source": [
    "np1 += 1\n",
    "ta1"
   ]
  }
 ],
 "metadata": {
  "kernelspec": {
   "display_name": "Python 3 (ipykernel)",
   "language": "python",
   "name": "python3"
  },
  "language_info": {
   "codemirror_mode": {
    "name": "ipython",
    "version": 3
   },
   "file_extension": ".py",
   "mimetype": "text/x-python",
   "name": "python",
   "nbconvert_exporter": "python",
   "pygments_lexer": "ipython3",
   "version": "3.10.13"
  }
 },
 "nbformat": 4,
 "nbformat_minor": 5
}
